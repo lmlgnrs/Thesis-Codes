{
 "cells": [
  {
   "cell_type": "code",
   "execution_count": 1,
   "id": "9fce0a69",
   "metadata": {},
   "outputs": [],
   "source": [
    "import pandas as pd\n",
    "import numpy as np"
   ]
  },
  {
   "cell_type": "markdown",
   "id": "fb19e550",
   "metadata": {},
   "source": [
    "## Helper Functions"
   ]
  },
  {
   "cell_type": "code",
   "execution_count": 2,
   "id": "8068b9bb",
   "metadata": {},
   "outputs": [],
   "source": [
    "def rmse(y_pred, y_true):\n",
    "        return np.sqrt(((y_pred - y_true) ** 2).mean())\n",
    "\n",
    "def mse(y_pred, y_true):\n",
    "        return ((y_pred - y_true) ** 2).mean()"
   ]
  },
  {
   "cell_type": "markdown",
   "id": "4b23f5bd",
   "metadata": {},
   "source": [
    "## FLF-LSTM Model Assessment"
   ]
  },
  {
   "cell_type": "code",
   "execution_count": 3,
   "id": "6e21b3db",
   "metadata": {},
   "outputs": [
    {
     "name": "stdout",
     "output_type": "stream",
     "text": [
      "MSE_Open: 0.027432624646361932\n",
      "MSE_High: 0.0745002626285041\n",
      "MSE_Low: 0.02968272019441511\n",
      "MSE_Close: 0.0507889559585112\n",
      "----------------\n",
      "RMSE_Open: 0.16562797060388662\n",
      "RMSE_High: 0.2729473623768951\n",
      "RMSE_Low: 0.17228673830105182\n",
      "RMSE_Close: 0.2253640520546948\n"
     ]
    }
   ],
   "source": [
    "df = pd.read_csv('USDPHP micro_H4 _OHLC.csv', header=None)\n",
    "df.columns = ['Open', 'High', 'Low', 'Close']\n",
    "df = df.iloc[10:]\n",
    "n = df.shape[0]\n",
    "idx = [0, int(n * 0.6), int(n * 0.8), n]\n",
    "testdf = df[idx[2]:idx[3]]\n",
    "\n",
    "FLF = pd.read_csv('DataFLF_LSTM.csv')\n",
    "FLF = FLF.drop(['Unnamed: 0'], axis=1)\n",
    "FLF.columns = ['Open', 'High', 'Low', 'Close']\n",
    "predflf = FLF[idx[2]:idx[3]]\n",
    "\n",
    "mse_dict = {}\n",
    "rmse_dict = {}\n",
    "\n",
    "\n",
    "for column in ['Open', 'High', 'Low', 'Close']:\n",
    "    true_values = testdf[column].values\n",
    "    pred_values = predflf[column].values\n",
    "    mse_val = mse(pred_values,true_values)\n",
    "    mse_dict[f'MSE_{column}'] = mse_val\n",
    "    rmse_val = rmse(pred_values,true_values)\n",
    "    rmse_dict[f'RMSE_{column}'] = rmse_val\n",
    "\n",
    "for key, value in mse_dict.items():\n",
    "    print(f'{key}: {value}')\n",
    "\n",
    "print('----------------')\n",
    "\n",
    "for key, value in rmse_dict.items():\n",
    "    print(f'{key}: {value}')\n"
   ]
  },
  {
   "cell_type": "markdown",
   "id": "07af6609",
   "metadata": {},
   "source": [
    "## OHLC-LSTM Model Assessment"
   ]
  },
  {
   "cell_type": "code",
   "execution_count": 4,
   "id": "b8982c1d",
   "metadata": {},
   "outputs": [
    {
     "name": "stdout",
     "output_type": "stream",
     "text": [
      "MSE_Open: 0.010151806151855926\n",
      "MSE_High: 0.016002280214307028\n",
      "MSE_Low: 0.015353655956650116\n",
      "MSE_Close: 0.027056063195629476\n",
      "----------------\n",
      "RMSE_Open: 0.10075617178047172\n",
      "RMSE_High: 0.12650011942408207\n",
      "RMSE_Low: 0.12390987029551001\n",
      "RMSE_Close: 0.16448727365857055\n"
     ]
    }
   ],
   "source": [
    "df = pd.read_csv('USDPHP micro_H4 _OHLC.csv', header=None)\n",
    "df.columns = ['Open', 'High', 'Low', 'Close']\n",
    "df = df.iloc[10:]\n",
    "n = df.shape[0]\n",
    "idx = [0, int(n * 0.6), int(n * 0.8), n]\n",
    "testdf = df[idx[2]:idx[3]]\n",
    "\n",
    "FLF = pd.read_csv('DataOHLC_LSTM.csv')\n",
    "FLF = FLF.drop(['Unnamed: 0'], axis=1)\n",
    "FLF.columns = ['Open', 'High', 'Low', 'Close']\n",
    "predflf = FLF[idx[2]:idx[3]]\n",
    "\n",
    "mse_dict = {}\n",
    "rmse_dict = {}\n",
    "\n",
    "# Calculate MAE for each column\n",
    "for column in ['Open', 'High', 'Low', 'Close']:\n",
    "    true_values = testdf[column].values\n",
    "    pred_values = predflf[column].values\n",
    "    mse_val = mse(pred_values,true_values)\n",
    "    mse_dict[f'MSE_{column}'] = mse_val\n",
    "    rmse_val = rmse(pred_values,true_values)\n",
    "    rmse_dict[f'RMSE_{column}'] = rmse_val\n",
    "\n",
    "for key, value in mse_dict.items():\n",
    "    print(f'{key}: {value}')\n",
    "\n",
    "print('----------------')\n",
    "\n",
    "for key, value in rmse_dict.items():\n",
    "    print(f'{key}: {value}')\n"
   ]
  },
  {
   "cell_type": "markdown",
   "id": "b313787b",
   "metadata": {},
   "source": [
    "## FLF-RNN Model Assessment"
   ]
  },
  {
   "cell_type": "code",
   "execution_count": 5,
   "id": "8f34e6d1",
   "metadata": {},
   "outputs": [
    {
     "name": "stdout",
     "output_type": "stream",
     "text": [
      "MSE_Open: 0.8044312093395822\n",
      "MSE_High: 0.7860905645321081\n",
      "MSE_Low: 0.5561982060556581\n",
      "MSE_Close: 0.6903174118979455\n",
      "----------------\n",
      "RMSE_Open: 0.8969008915925897\n",
      "RMSE_High: 0.8866174849009623\n",
      "RMSE_Low: 0.7457869709613182\n",
      "RMSE_Close: 0.8308534238347612\n"
     ]
    }
   ],
   "source": [
    "df = pd.read_csv('USDPHP micro_H4 _OHLC.csv', header=None)\n",
    "df.columns = ['Open', 'High', 'Low', 'Close']\n",
    "df = df.iloc[15:]\n",
    "n = df.shape[0]\n",
    "idx = [0, int(n * 0.6), int(n * 0.8), n]\n",
    "testdf = df[idx[2]:idx[3]]\n",
    "\n",
    "FLF = pd.read_csv('DataFLF_RNN.csv')\n",
    "FLF = FLF.drop(['Unnamed: 0'], axis=1)\n",
    "FLF.columns = ['Open', 'High', 'Low', 'Close']\n",
    "predflf = FLF[idx[2]:idx[3]]\n",
    "\n",
    "mae_dict = {}\n",
    "mse_dict = {}\n",
    "rmse_dict = {}\n",
    "\n",
    "# Calculate MAE for each column\n",
    "for column in ['Open', 'High', 'Low', 'Close']:\n",
    "    true_values = testdf[column].values\n",
    "    pred_values = predflf[column].values\n",
    "    mse_val = mse(pred_values,true_values)\n",
    "    mse_dict[f'MSE_{column}'] = mse_val\n",
    "    rmse_val = rmse(pred_values,true_values)\n",
    "    rmse_dict[f'RMSE_{column}'] = rmse_val\n",
    "\n",
    "for key, value in mse_dict.items():\n",
    "    print(f'{key}: {value}')\n",
    "\n",
    "print('----------------')\n",
    "\n",
    "for key, value in rmse_dict.items():\n",
    "    print(f'{key}: {value}')\n"
   ]
  }
 ],
 "metadata": {
  "kernelspec": {
   "display_name": "Python 3 (ipykernel)",
   "language": "python",
   "name": "python3"
  },
  "language_info": {
   "codemirror_mode": {
    "name": "ipython",
    "version": 3
   },
   "file_extension": ".py",
   "mimetype": "text/x-python",
   "name": "python",
   "nbconvert_exporter": "python",
   "pygments_lexer": "ipython3",
   "version": "3.11.5"
  }
 },
 "nbformat": 4,
 "nbformat_minor": 5
}
